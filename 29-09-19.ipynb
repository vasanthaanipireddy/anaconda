{
 "cells": [
  {
   "cell_type": "code",
   "execution_count": 4,
   "metadata": {},
   "outputs": [],
   "source": [
    "## File Handling Concepts python,File Data Processing:\n",
    "## File Handling and Data Processing\n",
    "##Introduction about files\n",
    "## methods in files\n",
    "## open\n",
    "## read\n",
    "## readlines\n",
    "## write\n",
    "## close\n",
    "## seek\n",
    "## tell"
   ]
  },
  {
   "cell_type": "code",
   "execution_count": null,
   "metadata": {},
   "outputs": [],
   "source": []
  },
  {
   "cell_type": "code",
   "execution_count": 8,
   "metadata": {},
   "outputs": [
    {
     "name": "stdout",
     "output_type": "stream",
     "text": [
      "welcome to spmvv \n",
      "alekya madam and gireesha madam\n",
      "apssdc classes this is very usuful for us.\n",
      "thank you somuch giving this opportunity\n"
     ]
    }
   ],
   "source": [
    "f=open(\"sample.txt\",\"r\")\n",
    "data=f.read()\n",
    "print(data)\n",
    "f.close()\n"
   ]
  },
  {
   "cell_type": "markdown",
   "metadata": {},
   "source": [
    "# method2\n"
   ]
  },
  {
   "cell_type": "code",
   "execution_count": 12,
   "metadata": {},
   "outputs": [
    {
     "name": "stdout",
     "output_type": "stream",
     "text": [
      "welcome to spmvv \n",
      "alekya madam and gireesha madam\n",
      "apssdc classes this is very usuful for us.\n",
      "thank you somuch giving this opportunity\n"
     ]
    }
   ],
   "source": [
    "with open(\"sample.txt\",\"r\")as f:\n",
    "    data=f.read()\n",
    "    print(data)"
   ]
  },
  {
   "cell_type": "code",
   "execution_count": 29,
   "metadata": {},
   "outputs": [
    {
     "name": "stdout",
     "output_type": "stream",
     "text": [
      "sample.txt\n",
      "welcome to spmvv \n",
      "alekya madam and gireesha madam\n",
      "apssdc classes this is very usuful for us.\n",
      "thank you somuch giving this opportunity\n"
     ]
    }
   ],
   "source": [
    "def openfile(filename):\n",
    "    f=open(filename,\"r\")\n",
    "    data=f.read()\n",
    "    print(data)\n",
    "    f.close()\n",
    "openfile(input())    \n",
    "    \n",
    "    \n",
    "    "
   ]
  },
  {
   "cell_type": "code",
   "execution_count": 30,
   "metadata": {},
   "outputs": [
    {
     "name": "stdout",
     "output_type": "stream",
     "text": [
      "welcome to spmvv \n",
      "alekya madam and gireesha madam\n",
      "apssdc classes this is very usuful for us.\n",
      "thank you somuch giving this opportunity\n"
     ]
    }
   ],
   "source": [
    "openfile(\"sample.txt\")"
   ]
  },
  {
   "cell_type": "code",
   "execution_count": 34,
   "metadata": {},
   "outputs": [],
   "source": [
    "def openfile(filename):\n",
    "    f=open(filename,\"r\")\n",
    "    data=f.read()\n",
    "    f.close()\n",
    "    return data\n",
    "    "
   ]
  },
  {
   "cell_type": "code",
   "execution_count": 35,
   "metadata": {},
   "outputs": [
    {
     "name": "stdout",
     "output_type": "stream",
     "text": [
      "WELCOME TO SPMVV \n",
      "ALEKYA MADAM AND GIREESHA MADAM\n",
      "APSSDC CLASSES THIS IS VERY USUFUL FOR US.\n",
      "THANK YOU SOMUCH GIVING THIS OPPORTUNITY\n"
     ]
    }
   ],
   "source": [
    "print(openfile(\"sample.txt\").upper())"
   ]
  },
  {
   "cell_type": "code",
   "execution_count": 46,
   "metadata": {},
   "outputs": [
    {
     "name": "stdout",
     "output_type": "stream",
     "text": [
      "Welcome to spmvv \n",
      "alekya madam and gireesha madam\n",
      "apssdc classes this is very usuful for us.\n",
      "thank you somuch giving this opportunity\n"
     ]
    }
   ],
   "source": [
    "print(openfile(\"sample.txt\").capitalize())"
   ]
  },
  {
   "cell_type": "code",
   "execution_count": 42,
   "metadata": {},
   "outputs": [
    {
     "name": "stdout",
     "output_type": "stream",
     "text": [
      "2\n",
      "hi this is mstp\n",
      "heloo\n"
     ]
    }
   ],
   "source": [
    "n=int(input())\n",
    "for i in range(n):\n",
    "        with open(\"text.txt\",\"w\")as f:\n",
    "            f.write(input())\n"
   ]
  },
  {
   "cell_type": "code",
   "execution_count": 43,
   "metadata": {},
   "outputs": [
    {
     "name": "stdout",
     "output_type": "stream",
     "text": [
      "2\n",
      "vasantha\n",
      "sushma\n"
     ]
    }
   ],
   "source": [
    "n=int(input())\n",
    "for i in range(n):\n",
    "        with open(\"text.txt\",\"a\")as f:\n",
    "            f.write(input())\n"
   ]
  },
  {
   "cell_type": "code",
   "execution_count": 67,
   "metadata": {},
   "outputs": [
    {
     "name": "stdout",
     "output_type": "stream",
     "text": [
      "2\n",
      "hai\n",
      "heloo\n"
     ]
    }
   ],
   "source": [
    "n=int(input())\n",
    "for i in range(n):\n",
    "        with open(\"text.txt\",\"a\")as f:\n",
    "            f.write(input()+\"\\n\")\n"
   ]
  },
  {
   "cell_type": "code",
   "execution_count": 47,
   "metadata": {},
   "outputs": [
    {
     "name": "stdout",
     "output_type": "stream",
     "text": [
      "heloovasanthasushmahello\n",
      "\n",
      "hai\n",
      "\n",
      "vasantha\n",
      "\n",
      "prasuna\n",
      "\n"
     ]
    }
   ],
   "source": [
    "with open(\"text.txt\",\"r\")as f:\n",
    "    data=f.readlines()\n",
    "    for i in data:\n",
    "        print(i)"
   ]
  },
  {
   "cell_type": "code",
   "execution_count": 65,
   "metadata": {},
   "outputs": [
    {
     "name": "stdout",
     "output_type": "stream",
     "text": [
      "['heloovasanthasushmahello\\n', 'hai\\n', 'vasantha\\n', 'prasuna\\n']\n",
      "heloovasanthasushmahello\n",
      "\n",
      "h j\n",
      "e j\n",
      "l j\n",
      "o j\n",
      "o j\n",
      "v j\n",
      "a j\n",
      "s j\n",
      "a j\n",
      "n j\n",
      "t j\n",
      "h j\n",
      "a j\n",
      "s j\n",
      "u j\n",
      "s j\n",
      "h j\n",
      "m j\n",
      "a j\n",
      "h j\n",
      "e j\n",
      "l j\n",
      "l j\n",
      "o j\n",
      "\n",
      " j\n",
      "hai\n",
      "\n",
      "h j\n",
      "a j\n",
      "i j\n",
      "\n",
      " j\n",
      "vasantha\n",
      "\n",
      "v j\n",
      "a j\n",
      "s j\n",
      "a j\n",
      "n j\n",
      "t j\n",
      "h j\n",
      "a j\n",
      "\n",
      " j\n",
      "prasuna\n",
      "\n",
      "p j\n",
      "r j\n",
      "a j\n",
      "s j\n",
      "u j\n",
      "n j\n",
      "a j\n",
      "\n",
      " j\n",
      "no of characters: + 46\n"
     ]
    }
   ],
   "source": [
    "count=0\n",
    "with open(\"text.txt\",\"r\")as f:\n",
    "    data=f.readlines()\n",
    "    print(data)\n",
    "    for i in data:\n",
    "        print(i)\n",
    "        for j in i:\n",
    "            print(j,\"j\")\n",
    "            count+=1\n",
    "    print(\"no of characters:\",\"+\",count)    "
   ]
  },
  {
   "cell_type": "code",
   "execution_count": 66,
   "metadata": {},
   "outputs": [
    {
     "name": "stdout",
     "output_type": "stream",
     "text": [
      "no of words: 22\n"
     ]
    }
   ],
   "source": [
    "count=0\n",
    "file_name=\"sample.txt\"\n",
    "with open(file_name,\"r\") as f:\n",
    "    for line in f:\n",
    "        count+=len(line.split())\n",
    "print(\"no of words:\",count)        \n",
    "        "
   ]
  },
  {
   "cell_type": "markdown",
   "metadata": {},
   "source": [
    "## write a function to calculate a highest  marks from marks.txt\n",
    "# calculate avg,pass%,fail%,distintion%"
   ]
  },
  {
   "cell_type": "code",
   "execution_count": 83,
   "metadata": {},
   "outputs": [
    {
     "data": {
      "text/plain": [
       "10"
      ]
     },
     "execution_count": 83,
     "metadata": {},
     "output_type": "execute_result"
    }
   ],
   "source": [
    "import random\n",
    "random.randint(1,10)\n"
   ]
  },
  {
   "cell_type": "code",
   "execution_count": 84,
   "metadata": {},
   "outputs": [],
   "source": [
    "with open(\"marks.txt\",\"w\") as f:\n",
    "    for i in range(1000):\n",
    "        f.write(str(random.randint(0,100))+\"\\n\")\n",
    "    \n",
    "        "
   ]
  },
  {
   "cell_type": "code",
   "execution_count": 96,
   "metadata": {},
   "outputs": [
    {
     "name": "stdout",
     "output_type": "stream",
     "text": [
      "avg of overal marks: 49.86\n",
      "pass% : 39.2\n",
      "dc % 25.0\n",
      "fc% 35.8\n"
     ]
    }
   ],
   "source": [
    "def classreport(file_mame):\n",
    "    with open(file_mame,'r')as f:\n",
    "        data=f.read().split()\n",
    "        marks_list=list(map(int,data))\n",
    "        avg=sum(marks_list)/len(marks_list)\n",
    "        print(\"avg of overal marks:\",avg)\n",
    "        fc=0\n",
    "        pc=0\n",
    "        passc=0\n",
    "        dc=0\n",
    "        for ele in marks_list:\n",
    "            if ele < 35:\n",
    "                fc+=1\n",
    "            elif ele >=75:\n",
    "                dc+=1\n",
    "            elif ele >=35:\n",
    "                pc+=1\n",
    "        print(\"pass% :\",(pc/len(marks_list))*100) \n",
    "        print(\"dc %\",(dc/len(marks_list))*100)\n",
    "        print(\"fc%\",(fc/len(marks_list))*100)\n",
    "classreport(\"marks.txt\")"
   ]
  },
  {
   "cell_type": "code",
   "execution_count": 62,
   "metadata": {},
   "outputs": [
    {
     "ename": "AttributeError",
     "evalue": "'_io.TextIOWrapper' object has no attribute 'file_name'",
     "output_type": "error",
     "traceback": [
      "\u001b[1;31m---------------------------------------------------------------------------\u001b[0m",
      "\u001b[1;31mAttributeError\u001b[0m                            Traceback (most recent call last)",
      "\u001b[1;32m<ipython-input-62-464df93efa17>\u001b[0m in \u001b[0;36m<module>\u001b[1;34m\u001b[0m\n\u001b[0;32m     11\u001b[0m     \u001b[0mavg\u001b[0m\u001b[1;33m=\u001b[0m\u001b[0msum\u001b[0m\u001b[1;33m/\u001b[0m\u001b[1;36m100\u001b[0m\u001b[1;33m\u001b[0m\u001b[1;33m\u001b[0m\u001b[0m\n\u001b[0;32m     12\u001b[0m     \u001b[0mprint\u001b[0m\u001b[1;33m(\u001b[0m\u001b[1;34m\"avg\"\u001b[0m\u001b[1;33m)\u001b[0m\u001b[1;33m\u001b[0m\u001b[1;33m\u001b[0m\u001b[0m\n\u001b[1;32m---> 13\u001b[1;33m \u001b[0mclassreport\u001b[0m\u001b[1;33m(\u001b[0m\u001b[1;34m\"marks.txt\"\u001b[0m\u001b[1;33m)\u001b[0m\u001b[1;33m\u001b[0m\u001b[1;33m\u001b[0m\u001b[0m\n\u001b[0m\u001b[0;32m     14\u001b[0m \u001b[1;33m\u001b[0m\u001b[0m\n\u001b[0;32m     15\u001b[0m \u001b[1;33m\u001b[0m\u001b[0m\n",
      "\u001b[1;32m<ipython-input-62-464df93efa17>\u001b[0m in \u001b[0;36mclassreport\u001b[1;34m(file_name)\u001b[0m\n\u001b[0;32m      1\u001b[0m \u001b[1;32mdef\u001b[0m \u001b[0mclassreport\u001b[0m\u001b[1;33m(\u001b[0m\u001b[0mfile_name\u001b[0m\u001b[1;33m)\u001b[0m\u001b[1;33m:\u001b[0m\u001b[1;33m\u001b[0m\u001b[1;33m\u001b[0m\u001b[0m\n\u001b[1;32m----> 2\u001b[1;33m     \u001b[0mf\u001b[0m\u001b[1;33m.\u001b[0m\u001b[0mfile_name\u001b[0m\u001b[1;33m(\u001b[0m\u001b[1;34m'marks.txt'\u001b[0m\u001b[1;33m,\u001b[0m\u001b[1;34m'r'\u001b[0m\u001b[1;33m)\u001b[0m\u001b[1;33m\u001b[0m\u001b[1;33m\u001b[0m\u001b[0m\n\u001b[0m\u001b[0;32m      3\u001b[0m     \u001b[0mline\u001b[0m\u001b[1;33m=\u001b[0m\u001b[0mf\u001b[0m\u001b[1;33m.\u001b[0m\u001b[0mreadlines\u001b[0m\u001b[1;33m(\u001b[0m\u001b[1;33m)\u001b[0m\u001b[1;33m\u001b[0m\u001b[1;33m\u001b[0m\u001b[0m\n\u001b[0;32m      4\u001b[0m     \u001b[0mavg\u001b[0m\u001b[1;33m=\u001b[0m\u001b[1;36m0\u001b[0m\u001b[1;33m\u001b[0m\u001b[1;33m\u001b[0m\u001b[0m\n\u001b[0;32m      5\u001b[0m     \u001b[0msum\u001b[0m\u001b[1;33m=\u001b[0m\u001b[1;36m0\u001b[0m\u001b[1;33m\u001b[0m\u001b[1;33m\u001b[0m\u001b[0m\n",
      "\u001b[1;31mAttributeError\u001b[0m: '_io.TextIOWrapper' object has no attribute 'file_name'"
     ]
    }
   ],
   "source": [
    "def classreport(file_name):\n",
    "    f.=open(file_name,'r')\n",
    "    line=f.readlines()\n",
    "    avg=0\n",
    "    sum=0\n",
    "    distinction=0\n",
    "    pa=0\n",
    "    fail=0\n",
    "    for i in line:\n",
    "        sum=+int(i)\n",
    "    avg=sum/1000\n",
    "    for i in lines():\n",
    "        \n",
    "        pa=P*100/1000\n",
    "        print(pa)\n",
    "        fail=fail*100/1000\n",
    "        print(fail)\n",
    "        print(\"avg\")\n",
    "        \n",
    "classreport(\"marks.txt\")       \n",
    "    \n",
    "    \n",
    "    \n",
    "    \n",
    "    "
   ]
  },
  {
   "cell_type": "markdown",
   "metadata": {},
   "source": [
    "## files"
   ]
  },
  {
   "cell_type": "code",
   "execution_count": 2,
   "metadata": {},
   "outputs": [
    {
     "data": {
      "text/plain": [
       "62"
      ]
     },
     "execution_count": 2,
     "metadata": {},
     "output_type": "execute_result"
    }
   ],
   "source": [
    "import os\n",
    "n=os.stat(\"text.txt\")\n",
    "n.st_size"
   ]
  },
  {
   "cell_type": "code",
   "execution_count": 37,
   "metadata": {},
   "outputs": [
    {
     "name": "stdout",
     "output_type": "stream",
     "text": [
      "heloovasanthasushmahello\n",
      "hai\n",
      "vasantha\n",
      "prasuna\n",
      "hai\n",
      "heloo\n",
      "\n"
     ]
    }
   ],
   "source": [
    "with open(\"text.txt\",)as f:\n",
    "    data=f.readlines()\n",
    "    f.seek(0)\n",
    "    print(f.read(100))"
   ]
  },
  {
   "cell_type": "code",
   "execution_count": 42,
   "metadata": {},
   "outputs": [
    {
     "name": "stdout",
     "output_type": "stream",
     "text": [
      "welcome to spmvv \n",
      " {'welcome', 'to', 'spmvv'} 3\n",
      "alekya madam and gireesha madam\n",
      " {'alekya', 'and', 'gireesha', 'madam'} 4\n",
      "apssdc classes this is very usuful for us.\n",
      " {'for', 'is', 'very', 'us.', 'usuful', 'apssdc', 'this', 'classes'} 8\n",
      "thanks for giving htis opportunity {'for', 'htis', 'opportunity', 'giving', 'thanks'} 5\n"
     ]
    }
   ],
   "source": [
    "count=0\n",
    "file_name=\"sample.txt\"\n",
    "with open(file_name,\"r\") as f:\n",
    "    for line in f:\n",
    "        s=\"\"\n",
    "        s=s+line\n",
    "        k=set(s.split())\n",
    "        print(s,k,len(k))\n",
    "        "
   ]
  },
  {
   "cell_type": "code",
   "execution_count": null,
   "metadata": {},
   "outputs": [],
   "source": []
  },
  {
   "cell_type": "code",
   "execution_count": 25,
   "metadata": {},
   "outputs": [],
   "source": [
    "file='contacts_data.txt'\n",
    "def newcontact(name,number):\n",
    "    fh=open(file,'a')\n",
    "    fh.write(name+\" \"+str(number)+\"\\n\")\n",
    "    fh.close()\n",
    "    return 'contact saved'"
   ]
  },
  {
   "cell_type": "code",
   "execution_count": 26,
   "metadata": {},
   "outputs": [
    {
     "data": {
      "text/plain": [
       "'contact saved'"
      ]
     },
     "execution_count": 26,
     "metadata": {},
     "output_type": "execute_result"
    }
   ],
   "source": [
    "newcontact(\"vasantha\",9676686033)"
   ]
  },
  {
   "cell_type": "code",
   "execution_count": 28,
   "metadata": {},
   "outputs": [
    {
     "name": "stdout",
     "output_type": "stream",
     "text": [
      "9676686033\n"
     ]
    }
   ],
   "source": [
    "def readcontact(name):\n",
    "    fh=open(file)\n",
    "    lines=fh.readlines()\n",
    "    \n",
    "    for line in lines:\n",
    "        words=line.split()\n",
    "        \n",
    "        contact_name=words[0]\n",
    "        contact=words[1]\n",
    "        if name == contact_name:\n",
    "            print(contact)\n",
    "            break\n",
    "readcontact(\"vasantha\")            "
   ]
  },
  {
   "cell_type": "code",
   "execution_count": 43,
   "metadata": {},
   "outputs": [],
   "source": [
    "def readcontact(name):\n",
    "    fh=open(file)\n",
    "    lines=fh.readlines()\n",
    "    \n",
    "    for i in line:\n",
    "        word=i.split()\n",
    "        contact_name=words[0]\n",
    "        contact_num=words[1]\n",
    "        print(contact_name,contat_num)"
   ]
  },
  {
   "cell_type": "code",
   "execution_count": 71,
   "metadata": {},
   "outputs": [],
   "source": [
    "# email validity\n",
    "import re\n",
    "re.match('^[6-9][0-9][{9}^[+][9][1][6-9][0-9]{9}]',\"0987654321\")"
   ]
  },
  {
   "cell_type": "code",
   "execution_count": 77,
   "metadata": {},
   "outputs": [],
   "source": [
    "def Emailvalidator(email):\n",
    "    pattern='[a-z0-9]{1,20}[_.a-z0-9]{1,10}[a-z0-9]{1,10}[@][a-z0-9]{1,10}[.][a-z]{1,5}'\n",
    "    if re.match(pattern,email):\n",
    "        return True\n",
    "    return False"
   ]
  },
  {
   "cell_type": "code",
   "execution_count": 78,
   "metadata": {},
   "outputs": [
    {
     "data": {
      "text/plain": [
       "True"
      ]
     },
     "execution_count": 78,
     "metadata": {},
     "output_type": "execute_result"
    }
   ],
   "source": [
    "Emailvalidator(\"vasanthacse333@gmail.com\")"
   ]
  },
  {
   "cell_type": "code",
   "execution_count": null,
   "metadata": {},
   "outputs": [],
   "source": []
  }
 ],
 "metadata": {
  "kernelspec": {
   "display_name": "Python 3",
   "language": "python",
   "name": "python3"
  },
  "language_info": {
   "codemirror_mode": {
    "name": "ipython",
    "version": 3
   },
   "file_extension": ".py",
   "mimetype": "text/x-python",
   "name": "python",
   "nbconvert_exporter": "python",
   "pygments_lexer": "ipython3",
   "version": "3.7.3"
  }
 },
 "nbformat": 4,
 "nbformat_minor": 2
}
