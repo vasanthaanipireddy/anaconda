{
 "cells": [
  {
   "cell_type": "code",
   "execution_count": null,
   "metadata": {},
   "outputs": [],
   "source": [
    "Packages and Modules :\n",
    "Module\n",
    "a module is a file consisting of Python code.\n",
    "\n",
    "For example Built-in Modules in Python are : print(), input(), int(), math, webbrowser etc.,\n",
    "\n",
    "to see available Built-in Modules type- help(\"modules\")"
   ]
  }
 ],
 "metadata": {
  "kernelspec": {
   "display_name": "Python 3",
   "language": "python",
   "name": "python3"
  },
  "language_info": {
   "codemirror_mode": {
    "name": "ipython",
    "version": 3
   },
   "file_extension": ".py",
   "mimetype": "text/x-python",
   "name": "python",
   "nbconvert_exporter": "python",
   "pygments_lexer": "ipython3",
   "version": "3.7.3"
  }
 },
 "nbformat": 4,
 "nbformat_minor": 2
}
